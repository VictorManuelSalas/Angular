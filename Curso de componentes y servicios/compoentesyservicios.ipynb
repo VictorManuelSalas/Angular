{
 "cells": [
  {
   "cell_type": "markdown",
   "metadata": {},
   "source": [
    "# Apuntes\n",
    "\n",
    "En la parte de programacion movil es recomendado utilizar componentes en esta ya que asi evitamos saturar de elementos e informacion a la pagina en si, por ello es necesario y recomendado usar componentes los cuales se sustrain en el momento en que se requieran. Los cuales tienen cada uno tiene responsabilidades y estilos unicos.\n"
   ]
  },
  {
   "cell_type": "markdown",
   "metadata": {},
   "source": [
    "## Componentes \n",
    "Estos componentes contienen 4 archivos de tipo html (maquetacion), scss(diseño), ts(programacion), spect.ts(archivo para testing).\n",
    "\n",
    "### Como crear un componente\n",
    "Usando el siguiente comando sirve para crear un componente facilmente.\n",
    "\n",
    "    ng generate component carpeta-nombre/nombre\n",
    "    --tabien puede ser--\n",
    "    ng g c carpeta/nombre\n",
    "\n",
    "Aqui se pide que se cree un componente con el nombre y en una carpeta (se recomienda nombrarla como components).\n",
    "\n",
    "Crear componente sin archivos de testing:\n",
    "\n",
    "    ng g c componentes/img --skip-tests"
   ]
  }
 ],
 "metadata": {
  "language_info": {
   "name": "python"
  },
  "orig_nbformat": 4
 },
 "nbformat": 4,
 "nbformat_minor": 2
}
