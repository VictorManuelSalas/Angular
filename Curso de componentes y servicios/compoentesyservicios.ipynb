{
 "cells": [
  {
   "cell_type": "markdown",
   "metadata": {},
   "source": [
    "# Apuntes\n",
    "\n",
    "En la parte de programacion movil es recomendado utilizar componentes en esta ya que asi evitamos saturar de elementos e informacion a la pagina en si, por ello es necesario y recomendado usar componentes los cuales se sustrain en el momento en que se requieran. Los cuales tienen cada uno tiene responsabilidades y estilos unicos.\n"
   ]
  },
  {
   "cell_type": "markdown",
   "metadata": {},
   "source": [
    "## Componentes \n",
    "Estos componentes contienen 4 archivos de tipo html (maquetacion), scss(diseño), ts(programacion), spect.ts(archivo para testing).\n",
    "\n",
    "### Como crear un componente\n",
    "Usando el siguiente comando sirve para crear un componente facilmente.\n",
    "\n",
    "    ng generate component carpeta-nombre/nombre\n",
    "    --tabien puede ser--\n",
    "    ng g c carpeta/nombre\n",
    "\n",
    "Aqui se pide que se cree un componente con el nombre y en una carpeta (se recomienda nombrarla como components).\n",
    "\n",
    "Crear componente sin archivos de testing:\n",
    "\n",
    "    ng g c componentes/img --skip-tests\n",
    "\n",
    "### Como llamar el componente en una pagina\n",
    "Los componentes tienen un elemento de selector en el archivo .ts dentro del @Component, este selector se copia en la pagina html como etiqueta ejemplo:\n",
    "\n",
    "    component.ts\n",
    "        @Component(){\n",
    "            selector: 'app-header';\n",
    "        }\n",
    "    \n",
    "    page .html\n",
    "    <app-header></app-header>\n",
    "\n",
    "Pero para que esto funcione deben de importar este componente en el archivo de la app.module.ts en la parte de @ngMoule en la seccion de delcarations y de imports. Solo poniendo el nombre de este componente."
   ]
  },
  {
   "cell_type": "markdown",
   "metadata": {},
   "source": [
    "## Uso de @Inputs\n",
    "Esto permite pasar parametros entre componentes para padre a hijo. Es decir que si queremos que el padre mande datos asia el componente hijo se debe de usar el @inputs.\n",
    "\n",
    "Para poder usar este atributo se debe de usar en el archivo ts del compoenente, en este para poder usarlo se debe de importar el atributo con el siguiente codigo:\n",
    "\n",
    "    imoprt { Input } from '@angular/core'\n",
    "\n",
    "Y para usarlo es escribirlo y nombrar una variable y su tipo:\n",
    "\n",
    "    @Input() nombre: string;\n",
    "Para que el padre pueda mandar un valor al componente es necesario poner dentro de la etiqueta del componente esta variable del input tal cual ya que asi es como se identificara:\n",
    "\n",
    "    <app-header nombre='Escuela 243'></app-header> //Escuela 243 se manda al componente\n",
    "Para poder mostrar el valor enviado desde el padre en la parte del componente es sencillo. Usando doble llave y el nombre de la variable.\n",
    "\n",
    "    //Componente html\n",
    "    <p> El titulo es {{nombre}}</p> //Mostrara \"El titulo es Escuela 243\"\n",
    "\n",
    "En caso de que el valor que el padre cambiaria o sea dinamico o sea una variable creada en el ts del padre, es necesario que la variable se ponga entre corchetes.\n",
    "\n",
    "    <app-header [nombre]='Escuela 243'></app-header>\n",
    "\n",
    "Un ejemplo de esto seria con un fomrulario el cual recibe un valor de un input y lo manda al componente y este muestre una imagen.\n",
    "\n",
    "    //padre ts\n",
    "        imgParent = '';\n",
    "\n",
    "    //padre.html\n",
    "        <p><input type='text' [(ngModel)]='imgParent' /></p> //Para que funcione el input es necesario esta propiedad la cual ocupa importar lo en app.module.ts en la parte de import como FormsModel, este hace que al teclar en el input este manda ese valor asia la variable imgParent declarada en el ts del padre.\n",
    "        <app-img [img]='imgParent'></app-img> //Aqui se pone el variable definido en el componente entre [] ya que este recibira la variable con el nombre imgParent.\n",
    "\n",
    "    //component .html\n",
    "        <img [src]=\"img\"> //ojo aqui como se recibe el valor de una variable del padre se pone entre [] al atributo que recibe y sin {{}} la variable del componente."
   ]
  },
  {
   "cell_type": "markdown",
   "metadata": {},
   "source": [
    "## Uso de @Output\n",
    "Este es la version contraria de @Inputs es decir que el hijo le mande al padre."
   ]
  }
 ],
 "metadata": {
  "language_info": {
   "name": "python"
  },
  "orig_nbformat": 4
 },
 "nbformat": 4,
 "nbformat_minor": 2
}
