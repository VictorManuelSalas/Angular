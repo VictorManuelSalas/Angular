{
 "cells": [
  {
   "cell_type": "markdown",
   "metadata": {},
   "source": [
    "# Apuntes de ANGULAR\n"
   ]
  },
  {
   "cell_type": "markdown",
   "metadata": {},
   "source": [
    "## Primeros pasos para empezar\n",
    "\n",
    "1.- Instala y Verifica versión de Node: node -v\n",
    "\n",
    "2.- Verifica versión de npm: npm -v\n",
    "\n",
    "3.- Instala el CLI de Angular: npm i -g @angular/cli\n",
    "\n",
    "4.- Verifica tu instalación: ng version\n",
    "\n",
    "5.- Crea tu primer proyecto: ng new \"nombre\"\n",
    "\n",
    "    5.1- Elejir que si la app tendra el routing de angular el cual es un SI.\n",
    "    5.2- Luego elejir la opcion de hoja de estilo (CSS, SASS, LESS)\n",
    "\n",
    "6.- Ingresar a la carpeta de la app con cd\n",
    "    \n",
    "    6.1- Ejecuta el servidor de desarrollo: ng serve "
   ]
  },
  {
   "cell_type": "markdown",
   "metadata": {},
   "source": [
    "### Comandos de Angular para correr el proyecto\n",
    "\n",
    "1.- ng server = Corre el servidor\n",
    "\n",
    "2.- ng server -o = Corre el servidor y abre el navegador automaticamente\n",
    "\n",
    "3.- ng server -o  --port=3500 = Corre el servidor abriendolo automaticamente en un puerto que tu elijas. Es decir localhost:3500\n",
    "\n",
    "4.- ng version = Muestra las versiones y dependencias que usas en tu proyecto\n",
    "\n",
    "5.- Para cancelar el servidor o pararlo se usa ctrl + c"
   ]
  },
  {
   "cell_type": "markdown",
   "metadata": {},
   "source": [
    "### Conceptos basicos de TypeScript para usar Angular\n",
    "\n",
    "#### Variables\n",
    "En este se pueden tener diferentes tipos de variables ya sean numericos, caracteres, string, etc. \n",
    "\n",
    "Para declarar una variable se usa const, let y var o se puede declarar sin necesidad de estos. \n",
    "\n",
    "    nombre: string //Aqui se declara la variable sin const, let y var\n",
    "\n",
    "    const nombre = 'Nicolas' //Aqui se declara la variable y darle un valor de tipo string\n",
    "\n",
    "    const nombre: string //Aqui sucede lo mismo solo que en este caso se le asigan el tipo de dato con dos puntos de esta forma solo recibira texto.\n",
    "\n",
    "    const nombre: string | number //Aqui lo que pasa es que se declara  la variable y se le da el tipo de dato que en este caso permite dos a la ves ya sea numerico o texto.\n",
    "\n",
    "    const nombre: any //Aqui se declara como una variable de tipo cualquiera, es decir que puede recibir cualquier valor.\n",
    "\n",
    "### Funciones\n",
    "Las funciones son igual como se usan en JS, ya sean nomrmales o de tipo de flecha aqui se usan igual.\n",
    "\n",
    "### POO en TS\n",
    "Aqui se mostrara algo simple de POO en TypeScript, para generar una clase con elementos es:\n",
    "\n",
    "    const Person {\n",
    "        private age: number; //Se declara una variable privada de tipo numerico \n",
    "        lastname: string; //Se declara una variable publica de tipo string \n",
    "\n",
    "        //Se genera una funcion la cual recibe dos parametros los cuales se les nombra y se le asignan sus tipos\n",
    "        constructor(Age:number, Lastname: string){\n",
    "            //Aqui se declara que las variables de la clase se igualan a las recibidad de la funcion\n",
    "            this.age = Age;\n",
    "            this.lastname = Lastname;\n",
    "        }\n",
    "    }\n",
    "\n",
    "    //Se genera una variable la cual sera un nuevo objeto de la clase Persona, esta manda dos valores a la clase para que se usen en la funcion\n",
    "    const nico = new Person(15, 'Molina');\n",
    "\n",
    "    //Se intenta acceder a las variables con el . solo si son publicas\n",
    "    nico.age; //ERROR \n",
    "    nico.lastname; //Molina\n",
    "\n",
    "\n",
    "### String Interpolation\n",
    "Es el proceso de evaluar un literal de cadena que contiene uno o más marcadores de posición, produciendo un resultado en el que los marcadores de posición se reemplazan con sus valores correspondientes.\n",
    "\n",
    "    <h1>Hola mundo</h1> //Normal\n",
    "\n",
    "    <h1>{{ 'Hola mundo'.repeat(3) }}</h1> //Aqui el texto se declara como una variable sin nombre string y a este se le puede generar alguna cosa en este caso se le asigna una funcion repat el cual repetira esta variable 3 veces.\n",
    "    \n",
    "    <p>3 + 3 = {{ 3 + 3}}</p> //Aqui se genera la operacion que esta entre llaves mostrando en la pagina 3 + 3 = 6\n",
    "\n",
    "Tambien estas doble llaves nos permite pasar valores de variables publicas desde el archivo typescript asia el archivo html\n",
    "\n",
    "    //Archivo ts\n",
    "    name: string = 'Manuel'\n",
    "    age = 18;\n",
    "    img: any = './assest/img/foto.png'\n",
    "\n",
    "    //Archivo html\n",
    "    <p>Hola mi nombre es {{name}} y tengo {{age}}</p> \n",
    "    <img src=\"{{img}}\" alt=\"Foto\">\n",
    "\n",
    "    //Navegador\n",
    "    Hola mi nombre es Manuel y tengo 18 años\n",
    "    [foto]"
   ]
  },
  {
   "cell_type": "markdown",
   "metadata": {},
   "source": [
    "## Property Binding\n",
    "Property Binding es la manera que dispone Angular para controlar y modificar las propiedades de los distintos elementos de HTML. Para esto, simplemente utiliza los corchetes [] para poder modificar dinámicamente ese atributo desde el controlador.\n",
    "Es decir que se usan los [] al momento de mandar desde el typesript al html variables con valores los cuales se usaran para mostrar en la pagina.\n",
    "\n",
    "Practicamente seria lo mismo que String Interpolation pero en este caso seria al reves, ahora seria encerrar con [] a los atributos y igualar los a los nombres de las variables sin necesidad de encerrar las en llaves.\n",
    "\n",
    "\n"
   ]
  },
  {
   "cell_type": "markdown",
   "metadata": {},
   "source": [
    "Continuara..."
   ]
  }
 ],
 "metadata": {
  "language_info": {
   "name": "python"
  },
  "orig_nbformat": 4
 },
 "nbformat": 4,
 "nbformat_minor": 2
}
