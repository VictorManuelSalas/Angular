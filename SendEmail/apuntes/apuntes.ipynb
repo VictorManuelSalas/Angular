{
 "cells": [
  {
   "cell_type": "markdown",
   "metadata": {},
   "source": [
    "# Apuntes Importantes "
   ]
  },
  {
   "cell_type": "markdown",
   "metadata": {},
   "source": [
    "## Backend config\n",
    "Para poder iniciar con este programa es necesario instalar los siguientes atributos:\n",
    "\n",
    "    1.- npm i express\n",
    "    2.- npm i nodemon //Sirve para que se ejecuten los cambios automaticamente\n",
    "    3.- npm i cors\n",
    "    4.- npm i body-parser\n",
    "    5.- npm install -g nodemon //sirve para correr el programa en consola"
   ]
  },
  {
   "cell_type": "markdown",
   "metadata": {},
   "source": [
    "Para correr el programa en consola se usa el comando:\n",
    "\n",
    "    nodemon\n"
   ]
  },
  {
   "cell_type": "markdown",
   "metadata": {},
   "source": [
    "### Libreria \n",
    "\n",
    "Comando de instalacion es: \n",
    "\n",
    "    npm i nodemailer"
   ]
  }
 ],
 "metadata": {
  "language_info": {
   "name": "python"
  },
  "orig_nbformat": 4
 },
 "nbformat": 4,
 "nbformat_minor": 2
}
